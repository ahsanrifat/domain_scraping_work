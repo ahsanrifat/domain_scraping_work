{
 "cells": [
  {
   "cell_type": "code",
   "execution_count": 154,
   "metadata": {},
   "outputs": [],
   "source": [
    "from bs4 import BeautifulSoup\n",
    "from selenium.webdriver import Chrome\n",
    "from selenium.webdriver.common.keys import Keys\n",
    "import time\n",
    "from datetime import datetime\n",
    "from concurrent import futures\n",
    "from pandas import DataFrame,read_csv,concat\n",
    "import scrap_config \n",
    "\n",
    "result_list=[]\n",
    "def exclude_checked_keywords(new_keywords_set):\n",
    "    print(\"Excluding already checked keywords\")\n",
    "    print(\"New Word List Length-->\",len(new_keywords_set))\n",
    "    done_keywords_df=read_csv(scrap_config.done_keywords_csv_path)\n",
    "    done_keywords_df.columns=map(str.lower,done_keywords_df.columns)\n",
    "    checked_keyword_set=set(done_keywords_df.keyword)\n",
    "    remaining_keywords_list=list(new_keywords_set-checked_keyword_set)\n",
    "    print(\"Number of checked keywords->\",len(checked_keyword_set))\n",
    "    print(\"Number of unchecked keywords->\",len(remaining_keywords_list))\n",
    "    return remaining_keywords_list\n",
    "    # return checked_keyword_set,checked_keyword_set\n",
    "\n",
    "def update_done_keyword_csv(df:DataFrame):\n",
    "    df=df[[\"keyword\",\"checking_date\"]]\n",
    "    base_df=read_csv(scrap_config.done_keywords_csv_path)\n",
    "    base_df=concat([base_df, df])\n",
    "    base_df=base_df.drop_duplicates(subset=['keyword'])\n",
    "    base_df.to_csv(scrap_config.done_keywords_csv_path,index=False)\n",
    "    \n",
    "def save_result():\n",
    "    final_df=DataFrame(result_list)\n",
    "    date=datetime.now().strftime(\"%Y-%m-%d_%H-%M-%S\")\n",
    "    file_name=f\"report_{date}\"\n",
    "    final_df.to_csv(f\"{file_name}.csv\",index=False)\n",
    "    if scrap_config.keep_record_of_keywords:\n",
    "        update_done_keyword_csv(final_df)\n",
    "        \n",
    "def get_driver():\n",
    "    url='https://www.simply.com/en/'\n",
    "    driver=Chrome(executable_path=r\"/home/rifat/Documents/interview/domain_scraping/driver/chromedriver\")\n",
    "    driver.get(url)\n",
    "    return driver\n",
    "\n",
    "def is_english_word(s):\n",
    "    try:\n",
    "        s.encode(encoding='utf-8').decode('ascii')\n",
    "    except UnicodeDecodeError:\n",
    "        pass\n",
    "    else:\n",
    "        return s\n",
    "    \n",
    "def prepare_keyword_list(df:DataFrame):\n",
    "    df.columns = map(str.lower, df.columns)\n",
    "    keywords=list(df.keyword)\n",
    "    keywords_set=set(map(is_english_word,keywords))\n",
    "    if None in keywords_set:\n",
    "        keywords_set.remove(None)\n",
    "    if scrap_config.exclude_done_keywords:\n",
    "        keywords_list=exclude_checked_keywords(keywords_set)\n",
    "    else:\n",
    "        keywords_list=list(keywords_set)\n",
    "    keywords_list=[word.replace(\" \",\"\") for word in keywords_list]\n",
    "    num_of_lists=20\n",
    "    lists_of_keywords=[keywords_list[x:x+num_of_lists] for x in range(0, len(keywords_list), num_of_lists)]\n",
    "    return lists_of_keywords\n",
    "\n",
    "def check_domain_availability(keywords_list):\n",
    "    global domain_extentions\n",
    "    global result_list\n",
    "    driver =get_driver()\n",
    "    is_first_load=False\n",
    "    for keyword in keywords_list:\n",
    "        result_dict={'keyword':keyword}\n",
    "        for extention in scrap_config.domain_extentions:\n",
    "            try:\n",
    "                full_domain=f\"{keyword}.{extention}\"\n",
    "                inputElement = driver.find_element_by_class_name(\"form-control\")\n",
    "                if not is_first_load:\n",
    "                    inputElement.send_keys(Keys.CONTROL + \"a\")\n",
    "                    inputElement.send_keys(Keys.DELETE)\n",
    "                is_first_load=False\n",
    "                inputElement.send_keys(full_domain)\n",
    "                inputElement.send_keys(Keys.ENTER)\n",
    "                time.sleep(.6)\n",
    "                elements=driver.find_elements_by_class_name('text-success')\n",
    "                text=elements[0].text\n",
    "                if 'The domain you searched for is available!' in text:\n",
    "                    result_dict[extention]=1\n",
    "                    # print(full_domain,\"-->Domain Available\")\n",
    "                else:\n",
    "                    result_dict[extention]=0\n",
    "                    # print(full_domain,\"-->Domain not available\")\n",
    "                \n",
    "                del elements\n",
    "            except Exception as e:\n",
    "                result_dict[extention]=str(e)\n",
    "                print(\"Exception-->\",e)\n",
    "        result_dict[\"checking_date\"]=datetime.now().strftime(\"%Y-%m-%d %H-%M-%S\")\n",
    "        result_list.append(result_dict)\n",
    "    driver.quit()"
   ]
  },
  {
   "cell_type": "code",
   "execution_count": 155,
   "metadata": {},
   "outputs": [
    {
     "name": "stdout",
     "output_type": "stream",
     "text": [
      "Excluding already checked keywords\n",
      "New Word List Length--> 185\n",
      "Number of checked keywords-> 184\n",
      "Number of unchecked keywords-> 185\n"
     ]
    }
   ],
   "source": [
    "df=read_csv('google_dk__all-keywords_2022-01-23_11-32-06-2.csv',encoding=\"latin1\")\n",
    "lists_of_keywords = prepare_keyword_list(df)\n"
   ]
  },
  {
   "cell_type": "code",
   "execution_count": 51,
   "metadata": {},
   "outputs": [],
   "source": [
    "done_keywords_df=read_csv(scrap_config.done_keywords_csv_path)\n",
    "done_keywords_df.columns=map(str.lower,done_keywords_df.columns)\n",
    "checked_keyword_set=set(done_keywords_df.keyword)\n",
    "# =========\n",
    "new_keywords_df=read_csv('report_2022-01-26_16-35-53.csv')\n",
    "# new_keywords_df.columns=map(str.lower,done_keywords_df.columns)\n",
    "new_keyword_set=set(new_keywords_df.keyword)"
   ]
  },
  {
   "cell_type": "code",
   "execution_count": 54,
   "metadata": {},
   "outputs": [
    {
     "data": {
      "text/plain": [
       "['ledlystilbil']"
      ]
     },
     "execution_count": 54,
     "metadata": {},
     "output_type": "execute_result"
    }
   ],
   "source": [
    "list(new_keyword_set-checked_keyword_set)"
   ]
  },
  {
   "cell_type": "code",
   "execution_count": 59,
   "metadata": {},
   "outputs": [],
   "source": [
    "update_done_keyword_csv(read_csv(\"report_2022-01-26_16-35-53.csv\"))"
   ]
  },
  {
   "cell_type": "code",
   "execution_count": 153,
   "metadata": {},
   "outputs": [
    {
     "data": {
      "text/html": [
       "<div>\n",
       "<style scoped>\n",
       "    .dataframe tbody tr th:only-of-type {\n",
       "        vertical-align: middle;\n",
       "    }\n",
       "\n",
       "    .dataframe tbody tr th {\n",
       "        vertical-align: top;\n",
       "    }\n",
       "\n",
       "    .dataframe thead th {\n",
       "        text-align: right;\n",
       "    }\n",
       "</style>\n",
       "<table border=\"1\" class=\"dataframe\">\n",
       "  <thead>\n",
       "    <tr style=\"text-align: right;\">\n",
       "      <th></th>\n",
       "      <th>keyword</th>\n",
       "      <th>checking_date</th>\n",
       "    </tr>\n",
       "  </thead>\n",
       "  <tbody>\n",
       "    <tr>\n",
       "      <th>0</th>\n",
       "      <td>hjemisbil</td>\n",
       "      <td>2022-01-26 16-34-14</td>\n",
       "    </tr>\n",
       "    <tr>\n",
       "      <th>1</th>\n",
       "      <td>hunderampetilbil</td>\n",
       "      <td>2022-01-26 16-34-16</td>\n",
       "    </tr>\n",
       "    <tr>\n",
       "      <th>2</th>\n",
       "      <td>billigsteleasingbil2021</td>\n",
       "      <td>2022-01-26 16-34-16</td>\n",
       "    </tr>\n",
       "    <tr>\n",
       "      <th>3</th>\n",
       "      <td>bilbank</td>\n",
       "      <td>2022-01-26 16-34-16</td>\n",
       "    </tr>\n",
       "    <tr>\n",
       "      <th>4</th>\n",
       "      <td>findbil</td>\n",
       "      <td>2022-01-26 16-34-18</td>\n",
       "    </tr>\n",
       "    <tr>\n",
       "      <th>...</th>\n",
       "      <td>...</td>\n",
       "      <td>...</td>\n",
       "    </tr>\n",
       "    <tr>\n",
       "      <th>180</th>\n",
       "      <td>legotechnicbil</td>\n",
       "      <td>2022-01-26 16-35-50</td>\n",
       "    </tr>\n",
       "    <tr>\n",
       "      <th>181</th>\n",
       "      <td>erhvervsleasingbil</td>\n",
       "      <td>2022-01-26 16-35-50</td>\n",
       "    </tr>\n",
       "    <tr>\n",
       "      <th>182</th>\n",
       "      <td>bilbasenbrugtbil</td>\n",
       "      <td>2022-01-26 16-35-51</td>\n",
       "    </tr>\n",
       "    <tr>\n",
       "      <th>183</th>\n",
       "      <td>leasingbilprivat</td>\n",
       "      <td>2022-01-26 16-35-53</td>\n",
       "    </tr>\n",
       "    <tr>\n",
       "      <th>184</th>\n",
       "      <td>bilradio</td>\n",
       "      <td>2022-01-26 16-35-53</td>\n",
       "    </tr>\n",
       "  </tbody>\n",
       "</table>\n",
       "<p>184 rows × 2 columns</p>\n",
       "</div>"
      ],
      "text/plain": [
       "                     keyword        checking_date\n",
       "0                  hjemisbil  2022-01-26 16-34-14\n",
       "1           hunderampetilbil  2022-01-26 16-34-16\n",
       "2    billigsteleasingbil2021  2022-01-26 16-34-16\n",
       "3                    bilbank  2022-01-26 16-34-16\n",
       "4                    findbil  2022-01-26 16-34-18\n",
       "..                       ...                  ...\n",
       "180           legotechnicbil  2022-01-26 16-35-50\n",
       "181       erhvervsleasingbil  2022-01-26 16-35-50\n",
       "182         bilbasenbrugtbil  2022-01-26 16-35-51\n",
       "183         leasingbilprivat  2022-01-26 16-35-53\n",
       "184                 bilradio  2022-01-26 16-35-53\n",
       "\n",
       "[184 rows x 2 columns]"
      ]
     },
     "execution_count": 153,
     "metadata": {},
     "output_type": "execute_result"
    }
   ],
   "source": [
    "df=read_csv(\"report_2022-01-26_16-35-53.csv\")\n",
    "df=df[[\"keyword\",\"checking_date\"]]\n",
    "base_df=read_csv(scrap_config.done_keywords_csv_path)\n",
    "# base_df = base_df.append(df, ignore_index=True)\n",
    "base_df=concat([base_df, df])\n",
    "base_df=base_df.drop_duplicates(subset=['keyword'])\n",
    "base_df.to_csv(scrap_config.done_keywords_csv_path,index=False)\n",
    "base_df"
   ]
  },
  {
   "cell_type": "code",
   "execution_count": 19,
   "metadata": {},
   "outputs": [
    {
     "name": "stderr",
     "output_type": "stream",
     "text": [
      "/tmp/ipykernel_8350/882774213.py:34: DeprecationWarning: executable_path has been deprecated, please pass in a Service object\n",
      "  driver=Chrome(executable_path=r\"/home/rifat/Documents/interview/domain_scraping/driver/chromedriver\")\n",
      "/tmp/ipykernel_8350/882774213.py:69: DeprecationWarning: find_element_by_* commands are deprecated. Please use find_element() instead\n",
      "  inputElement = driver.find_element_by_class_name(\"form-control\")\n",
      "/tmp/ipykernel_8350/882774213.py:77: DeprecationWarning: find_elements_by_* commands are deprecated. Please use find_elements() instead\n",
      "  elements=driver.find_elements_by_class_name('text-success')\n"
     ]
    },
    {
     "name": "stdout",
     "output_type": "stream",
     "text": [
      "Time Taken--> 125.25432658195496\n"
     ]
    }
   ],
   "source": [
    "t0=time.time()\n",
    "with futures.ThreadPoolExecutor() as executor: # default/optimized number of threads\n",
    "  titles = list(executor.map(check_domain_availability, lists_of_keywords))\n",
    "save_result()\n",
    "print(\"Time Taken-->\",time.time()-t0)"
   ]
  },
  {
   "cell_type": "code",
   "execution_count": 15,
   "metadata": {},
   "outputs": [],
   "source": [
    "done_keywords_df=read_csv(scrap_config.done_keywords_csv_path)\n",
    "done_keywords_df.columns=map(str.lower,done_keywords_df.columns)\n",
    "checked_keyword_set=set(done_keywords_df.keyword)\n",
    "a=set(['advarselslamperbil',\n",
    " 'advarselslamperbilsymboler',\n",
    " 'airconditionbil',\n",
    " 'airconditionerbil',\n",
    " 'aktivsubwooferbil',\n",
    " 'amerikanerbil',\n",
    " 'ansvarsforsikringbilpris',\n",
    " 'automatgearbil',\"sfsf\",None])-checked_keyword_set"
   ]
  },
  {
   "cell_type": "code",
   "execution_count": null,
   "metadata": {},
   "outputs": [],
   "source": []
  },
  {
   "cell_type": "code",
   "execution_count": 16,
   "metadata": {},
   "outputs": [
    {
     "data": {
      "text/plain": [
       "True"
      ]
     },
     "execution_count": 16,
     "metadata": {},
     "output_type": "execute_result"
    }
   ],
   "source": [
    "None in a"
   ]
  },
  {
   "cell_type": "code",
   "execution_count": 253,
   "metadata": {},
   "outputs": [],
   "source": [
    "final_df2= final_df[['keyword', 'checking_date']]"
   ]
  },
  {
   "cell_type": "code",
   "execution_count": 254,
   "metadata": {},
   "outputs": [],
   "source": [
    "final_df2.to_csv(\"done_kwywords.csv\",index=False)"
   ]
  },
  {
   "cell_type": "code",
   "execution_count": 179,
   "metadata": {},
   "outputs": [
    {
     "data": {
      "text/plain": [
       "False"
      ]
     },
     "execution_count": 179,
     "metadata": {},
     "output_type": "execute_result"
    }
   ],
   "source": [
    "isEnglish(\"how about this one : 通 asfަ\")"
   ]
  }
 ],
 "metadata": {
  "interpreter": {
   "hash": "313a48ea98ffa28bb74f90031cb13d3d7cba7db88ae9146c91a6b6308e7d8230"
  },
  "kernelspec": {
   "display_name": "Python 3.8.10 64-bit ('vir_env': venv)",
   "language": "python",
   "name": "python3"
  },
  "language_info": {
   "codemirror_mode": {
    "name": "ipython",
    "version": 3
   },
   "file_extension": ".py",
   "mimetype": "text/x-python",
   "name": "python",
   "nbconvert_exporter": "python",
   "pygments_lexer": "ipython3",
   "version": "3.8.10"
  },
  "orig_nbformat": 4
 },
 "nbformat": 4,
 "nbformat_minor": 2
}
